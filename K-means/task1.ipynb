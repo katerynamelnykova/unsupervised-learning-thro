{
 "cells": [
  {
   "cell_type": "code",
   "execution_count": 14,
   "metadata": {},
   "outputs": [],
   "source": [
    "import math\n",
    "\n",
    "data = [[0,0], [0,1], [-1,2], [2,0], [3,0], [4,-1]]\n",
    "\n",
    "c1 = data[0]\n",
    "c2 = data[-1]\n",
    "\n",
    "def euclidian_distance(a, b):\n",
    "    sum_res = 0\n",
    "    for i in zip(a, b):\n",
    "        sum_res += (i[0] - i[1])**2\n",
    "    return sum_res\n",
    "\n",
    "\n",
    "assert euclidian_distance([0, 0], [0, 0]) == 0\n",
    "assert euclidian_distance([0, 0], [1, 4]) == 17\n",
    "\n"
   ]
  },
  {
   "cell_type": "code",
   "execution_count": 15,
   "metadata": {},
   "outputs": [
    {
     "name": "stdout",
     "output_type": "stream",
     "text": [
      "([[0, 0], [0, 1], [-1, 2], [2, 0]], [[3, 0], [4, -1]])\n"
     ]
    }
   ],
   "source": [
    "def clustering(c1, c2, X):\n",
    "    cluster1, cluster2 = [], []\n",
    "    for i in X:\n",
    "        if euclidian_distance(c1, i) < euclidian_distance(c2, i):\n",
    "            cluster1.append(i)\n",
    "        else:\n",
    "            cluster2.append(i)\n",
    "    return cluster1, cluster2\n",
    "\n",
    "print(clustering(c1, c2, data))"
   ]
  },
  {
   "cell_type": "code",
   "execution_count": 16,
   "metadata": {},
   "outputs": [
    {
     "name": "stdout",
     "output_type": "stream",
     "text": [
      "[0.25, 0.75]\n",
      "[3.5, -0.5]\n"
     ]
    }
   ],
   "source": [
    "def new_centroid(X):\n",
    "    r = [0, 0]\n",
    "    for i in X:\n",
    "        r[0] = r[0] + i[0]\n",
    "        r[1] = r[1] + i[1]\n",
    "    if(len(X) != 0):\n",
    "        r[0] /= len(X)\n",
    "        r[1] /= len(X)\n",
    "    return r\n",
    "\n",
    "print(new_centroid(clustering(c1, c2, data)[0]))\n",
    "print(new_centroid(clustering(c1, c2, data)[1]))"
   ]
  },
  {
   "cell_type": "code",
   "execution_count": 21,
   "metadata": {},
   "outputs": [
    {
     "name": "stdout",
     "output_type": "stream",
     "text": [
      "Iteration: 1 C1: [0, 0] C2: [4, -1] Cluster 1: [[0, 0], [0, 1], [-1, 2], [2, 0]] Cluster 2: [[3, 0], [4, -1]]\n",
      "New centroids C1: [0.25, 0.75] C2: [3.5, -0.5]\n",
      "Iteration: 2 C1: [0.25, 0.75] C2: [3.5, -0.5] Cluster 1: [[0, 0], [0, 1], [-1, 2]] Cluster 2: [[2, 0], [3, 0], [4, -1]]\n",
      "New centroids C1: [-0.3333333333333333, 1.0] C2: [3.0, -0.3333333333333333]\n"
     ]
    }
   ],
   "source": [
    "c1, c2 = data[0], data[-1]\n",
    "\n",
    "for i in range(2):\n",
    "    clusters = clustering(c1, c2, data)\n",
    "    print(f\"Iteration: {i+1} C1: {c1} C2: {c2} Cluster 1: {clusters[0]} Cluster 2: {clusters[1]}\")\n",
    "    c1 = new_centroid(clustering(c1, c2, data)[0])\n",
    "    c2 = new_centroid(clustering(c1, c2, data)[1])\n",
    "    print(f\"New centroids C1: {c1} C2: {c2}\")"
   ]
  },
  {
   "cell_type": "code",
   "execution_count": 22,
   "metadata": {},
   "outputs": [
    {
     "name": "stdout",
     "output_type": "stream",
     "text": [
      "[-0.3333333333333333, 1.0]\n",
      "[3.0, -0.3333333333333333]\n"
     ]
    }
   ],
   "source": [
    "while True:\n",
    "    cl1, cl2 = clustering(c1, c2, data)\n",
    "    _c1 = c1\n",
    "    _c2 = c2\n",
    "    c1 = new_centroid(cl1)\n",
    "    c2 = new_centroid(cl2)\n",
    "    if _c1 == c1 and _c2 == c2:\n",
    "        break\n",
    "\n",
    "print(c1)\n",
    "print(c2)"
   ]
  },
  {
   "cell_type": "code",
   "execution_count": 32,
   "metadata": {},
   "outputs": [
    {
     "data": {
      "image/png": "[encoded data removed]",
      "text/plain": [
       "<Figure size 640x480 with 1 Axes>"
      ]
     },
     "metadata": {},
     "output_type": "display_data"
    }
   ],
   "source": [
    "import matplotlib.pyplot as plt\n",
    "import numpy as np\n",
    "\n",
    "val = np.array(data)\n",
    "cluster1, cluster2 = np.array(clustering(c1, c2, data)[0]), np.array(clustering(c1, c2, data)[1])\n",
    "\n",
    "plt.scatter(cluster1[:, 0], cluster1[:, 1], color=\"green\", label=\"cluster 1\")\n",
    "plt.scatter(cluster2[:, 0], cluster2[:, 1], color=\"orange\", label=\"cluster 2\")\n",
    "plt.scatter(c1[0], c1[1], marker='X', color=\"blue\", label=\"centroid of the cluster 1\")\n",
    "plt.scatter(c2[0], c2[1], marker='X', color=\"red\", label=\"centroid of the cluster 2\")\n",
    "\n",
    "plt.legend()\n",
    "plt.show()"
   ]
  },
  {
   "cell_type": "code",
   "execution_count": null,
   "metadata": {},
   "outputs": [],
   "source": []
  }
 ],
 "metadata": {
  "kernelspec": {
   "display_name": "Python 3",
   "language": "python",
   "name": "python3"
  },
  "language_info": {
   "codemirror_mode": {
    "name": "ipython",
    "version": 3
   },
   "file_extension": ".py",
   "mimetype": "text/x-python",
   "name": "python",
   "nbconvert_exporter": "python",
   "pygments_lexer": "ipython3",
   "version": "3.9.6"
  }
 },
 "nbformat": 4,
 "nbformat_minor": 2
}
